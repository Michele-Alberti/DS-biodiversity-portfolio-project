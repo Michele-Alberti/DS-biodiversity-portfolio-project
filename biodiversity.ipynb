{
 "cells": [
  {
   "cell_type": "markdown",
   "metadata": {},
   "source": [
    "# CODECADEMY WALKTHROUGH: BIODIVERSITY IN NATIONAL PARKS\n",
    "\n",
    "This is my second walkthrough for Codecademy's Data Science career path.\\\n",
    "I am going to explore the *Biodiversity in National Parks* dataset for completing the *data analysis portfolio project*.\n",
    "\n",
    "## Exploratory Data Analysis\n",
    "Data are provided by Codecademy as part of the project in two files named `species_info.csv` and `observations.csv`.\\\n",
    "Let's begin, it is time to get acquainted with our dataset!\n",
    "\n",
    "### Import statements\n",
    "We start by importing all the relevant packages."
   ]
  },
  {
   "cell_type": "code",
   "execution_count": 1,
   "metadata": {},
   "outputs": [],
   "source": [
    "import pandas as pd\n",
    "from matplotlib import pyplot as plt\n",
    "import seaborn as sns\n",
    "from matplotlib.ticker import MultipleLocator\n",
    "from scipy.stats import chi2_contingency"
   ]
  },
  {
   "cell_type": "markdown",
   "metadata": {},
   "source": [
    "### Load CSV\n",
    "We are ready for loading CSV files and assign them to pandas dataframes.\\\n",
    "The first five rows of each table are visible below.\n",
    "\n",
    "**Note:** *if you look at `observations.csv` you should notice that parks names always end with `'National Park'`.\\\n",
    "When working with seaborn plots this sub-string is annoying as these words take additional space without adding any value.\\\n",
    "It is better to remove them now.*"
   ]
  },
  {
   "cell_type": "code",
   "execution_count": 2,
   "metadata": {
    "scrolled": false
   },
   "outputs": [
    {
     "data": {
      "text/html": [
       "<style  type=\"text/css\" >\n",
       "</style><table id=\"T_09cf7_\" ><caption>Infos on Species</caption><thead>    <tr>        <th class=\"blank level0\" ></th>        <th class=\"col_heading level0 col0\" >category</th>        <th class=\"col_heading level0 col1\" >scientific_name</th>        <th class=\"col_heading level0 col2\" >common_names</th>        <th class=\"col_heading level0 col3\" >conservation_status</th>    </tr></thead><tbody>\n",
       "                <tr>\n",
       "                        <th id=\"T_09cf7_level0_row0\" class=\"row_heading level0 row0\" >0</th>\n",
       "                        <td id=\"T_09cf7_row0_col0\" class=\"data row0 col0\" >Mammal</td>\n",
       "                        <td id=\"T_09cf7_row0_col1\" class=\"data row0 col1\" >Clethrionomys gapperi gapperi</td>\n",
       "                        <td id=\"T_09cf7_row0_col2\" class=\"data row0 col2\" >Gapper's Red-Backed Vole</td>\n",
       "                        <td id=\"T_09cf7_row0_col3\" class=\"data row0 col3\" >nan</td>\n",
       "            </tr>\n",
       "            <tr>\n",
       "                        <th id=\"T_09cf7_level0_row1\" class=\"row_heading level0 row1\" >1</th>\n",
       "                        <td id=\"T_09cf7_row1_col0\" class=\"data row1 col0\" >Mammal</td>\n",
       "                        <td id=\"T_09cf7_row1_col1\" class=\"data row1 col1\" >Bos bison</td>\n",
       "                        <td id=\"T_09cf7_row1_col2\" class=\"data row1 col2\" >American Bison, Bison</td>\n",
       "                        <td id=\"T_09cf7_row1_col3\" class=\"data row1 col3\" >nan</td>\n",
       "            </tr>\n",
       "            <tr>\n",
       "                        <th id=\"T_09cf7_level0_row2\" class=\"row_heading level0 row2\" >2</th>\n",
       "                        <td id=\"T_09cf7_row2_col0\" class=\"data row2 col0\" >Mammal</td>\n",
       "                        <td id=\"T_09cf7_row2_col1\" class=\"data row2 col1\" >Bos taurus</td>\n",
       "                        <td id=\"T_09cf7_row2_col2\" class=\"data row2 col2\" >Aurochs, Aurochs, Domestic Cattle (Feral), Domesticated Cattle</td>\n",
       "                        <td id=\"T_09cf7_row2_col3\" class=\"data row2 col3\" >nan</td>\n",
       "            </tr>\n",
       "            <tr>\n",
       "                        <th id=\"T_09cf7_level0_row3\" class=\"row_heading level0 row3\" >3</th>\n",
       "                        <td id=\"T_09cf7_row3_col0\" class=\"data row3 col0\" >Mammal</td>\n",
       "                        <td id=\"T_09cf7_row3_col1\" class=\"data row3 col1\" >Ovis aries</td>\n",
       "                        <td id=\"T_09cf7_row3_col2\" class=\"data row3 col2\" >Domestic Sheep, Mouflon, Red Sheep, Sheep (Feral)</td>\n",
       "                        <td id=\"T_09cf7_row3_col3\" class=\"data row3 col3\" >nan</td>\n",
       "            </tr>\n",
       "            <tr>\n",
       "                        <th id=\"T_09cf7_level0_row4\" class=\"row_heading level0 row4\" >4</th>\n",
       "                        <td id=\"T_09cf7_row4_col0\" class=\"data row4 col0\" >Mammal</td>\n",
       "                        <td id=\"T_09cf7_row4_col1\" class=\"data row4 col1\" >Cervus elaphus</td>\n",
       "                        <td id=\"T_09cf7_row4_col2\" class=\"data row4 col2\" >Wapiti Or Elk</td>\n",
       "                        <td id=\"T_09cf7_row4_col3\" class=\"data row4 col3\" >nan</td>\n",
       "            </tr>\n",
       "    </tbody></table>"
      ],
      "text/plain": [
       "<pandas.io.formats.style.Styler at 0x7ffb67bfad90>"
      ]
     },
     "metadata": {},
     "output_type": "display_data"
    },
    {
     "data": {
      "text/html": [
       "<style  type=\"text/css\" >\n",
       "</style><table id=\"T_9677e_\" ><caption>Observations in National Parks</caption><thead>    <tr>        <th class=\"blank level0\" ></th>        <th class=\"col_heading level0 col0\" >scientific_name</th>        <th class=\"col_heading level0 col1\" >park_name</th>        <th class=\"col_heading level0 col2\" >observations</th>    </tr></thead><tbody>\n",
       "                <tr>\n",
       "                        <th id=\"T_9677e_level0_row0\" class=\"row_heading level0 row0\" >0</th>\n",
       "                        <td id=\"T_9677e_row0_col0\" class=\"data row0 col0\" >Vicia benghalensis</td>\n",
       "                        <td id=\"T_9677e_row0_col1\" class=\"data row0 col1\" >Great Smoky Mountains </td>\n",
       "                        <td id=\"T_9677e_row0_col2\" class=\"data row0 col2\" >68</td>\n",
       "            </tr>\n",
       "            <tr>\n",
       "                        <th id=\"T_9677e_level0_row1\" class=\"row_heading level0 row1\" >1</th>\n",
       "                        <td id=\"T_9677e_row1_col0\" class=\"data row1 col0\" >Neovison vison</td>\n",
       "                        <td id=\"T_9677e_row1_col1\" class=\"data row1 col1\" >Great Smoky Mountains </td>\n",
       "                        <td id=\"T_9677e_row1_col2\" class=\"data row1 col2\" >77</td>\n",
       "            </tr>\n",
       "            <tr>\n",
       "                        <th id=\"T_9677e_level0_row2\" class=\"row_heading level0 row2\" >2</th>\n",
       "                        <td id=\"T_9677e_row2_col0\" class=\"data row2 col0\" >Prunus subcordata</td>\n",
       "                        <td id=\"T_9677e_row2_col1\" class=\"data row2 col1\" >Yosemite </td>\n",
       "                        <td id=\"T_9677e_row2_col2\" class=\"data row2 col2\" >138</td>\n",
       "            </tr>\n",
       "            <tr>\n",
       "                        <th id=\"T_9677e_level0_row3\" class=\"row_heading level0 row3\" >3</th>\n",
       "                        <td id=\"T_9677e_row3_col0\" class=\"data row3 col0\" >Abutilon theophrasti</td>\n",
       "                        <td id=\"T_9677e_row3_col1\" class=\"data row3 col1\" >Bryce </td>\n",
       "                        <td id=\"T_9677e_row3_col2\" class=\"data row3 col2\" >84</td>\n",
       "            </tr>\n",
       "            <tr>\n",
       "                        <th id=\"T_9677e_level0_row4\" class=\"row_heading level0 row4\" >4</th>\n",
       "                        <td id=\"T_9677e_row4_col0\" class=\"data row4 col0\" >Githopsis specularioides</td>\n",
       "                        <td id=\"T_9677e_row4_col1\" class=\"data row4 col1\" >Great Smoky Mountains </td>\n",
       "                        <td id=\"T_9677e_row4_col2\" class=\"data row4 col2\" >85</td>\n",
       "            </tr>\n",
       "    </tbody></table>"
      ],
      "text/plain": [
       "<pandas.io.formats.style.Styler at 0x7ffb67c3edf0>"
      ]
     },
     "metadata": {},
     "output_type": "display_data"
    }
   ],
   "source": [
    "# Set dataframe column width\n",
    "df_width = '120px'\n",
    "\n",
    "# Import infos on species\n",
    "s_info_df = pd.read_csv('species_info.csv')\n",
    "display(s_info_df.head().style.set_caption('Infos on Species'))\n",
    "\n",
    "# Import infos on observations\n",
    "obs_df = pd.read_csv('observations.csv')\n",
    "# Remove 'national park' from park name (smaller labels on graphs)\n",
    "obs_df.park_name = obs_df.park_name.str.replace('national park','', case=False)\n",
    "display(obs_df.head().style.set_caption('Observations in National Parks'))"
   ]
  },
  {
   "cell_type": "markdown",
   "metadata": {},
   "source": [
    "We can sort the conservation status based on gravity, for future use.\\\n",
    "The following *conservation statuses* are present in our dataframe."
   ]
  },
  {
   "cell_type": "code",
   "execution_count": 3,
   "metadata": {},
   "outputs": [
    {
     "data": {
      "text/html": [
       "<div>\n",
       "<style scoped>\n",
       "    .dataframe tbody tr th:only-of-type {\n",
       "        vertical-align: middle;\n",
       "    }\n",
       "\n",
       "    .dataframe tbody tr th {\n",
       "        vertical-align: top;\n",
       "    }\n",
       "\n",
       "    .dataframe thead th {\n",
       "        text-align: right;\n",
       "    }\n",
       "</style>\n",
       "<table border=\"1\" class=\"dataframe\">\n",
       "  <thead>\n",
       "    <tr style=\"text-align: right;\">\n",
       "      <th></th>\n",
       "      <th>conservation_status</th>\n",
       "    </tr>\n",
       "  </thead>\n",
       "  <tbody>\n",
       "    <tr>\n",
       "      <th>0</th>\n",
       "      <td>NaN</td>\n",
       "    </tr>\n",
       "    <tr>\n",
       "      <th>1</th>\n",
       "      <td>Species of Concern</td>\n",
       "    </tr>\n",
       "    <tr>\n",
       "      <th>2</th>\n",
       "      <td>Endangered</td>\n",
       "    </tr>\n",
       "    <tr>\n",
       "      <th>3</th>\n",
       "      <td>Threatened</td>\n",
       "    </tr>\n",
       "    <tr>\n",
       "      <th>4</th>\n",
       "      <td>In Recovery</td>\n",
       "    </tr>\n",
       "  </tbody>\n",
       "</table>\n",
       "</div>"
      ],
      "text/plain": [
       "  conservation_status\n",
       "0                 NaN\n",
       "1  Species of Concern\n",
       "2          Endangered\n",
       "3          Threatened\n",
       "4         In Recovery"
      ]
     },
     "metadata": {},
     "output_type": "display_data"
    }
   ],
   "source": [
    "display(pd.DataFrame({'conservation_status':s_info_df.conservation_status.unique()}))"
   ]
  },
  {
   "cell_type": "markdown",
   "metadata": {},
   "source": [
    "SInce `NaN`values are assigned to species that are **not endangered**, we can replace them with a `'Low Risk'` indication.\\\n",
    "These statuses are then sorted and applied as sorted categoricals (see [endangered, threatened](https://www.usgs.gov/faqs/what-are-differences-between-endangered-threatened-imperiled-and-risk-species?qt-news_science_products=0#qt-news_science_products) and [species of concern](https://www.maine.gov/ifw/fish-wildlife/wildlife/endangered-threatened-species/special-concern.html) for better understand how to sort them)."
   ]
  },
  {
   "cell_type": "code",
   "execution_count": 4,
   "metadata": {},
   "outputs": [],
   "source": [
    "s_info_df.conservation_status[s_info_df.conservation_status.isna()] = 'Low Risk'\n",
    "s_info_df.conservation_status = pd.Categorical(s_info_df.conservation_status, \n",
    "                                               categories=['Low Risk', 'Species of Concern', \n",
    "                                                           'In Recovery', 'Threatened', 'Endangered'], \n",
    "                                               ordered=True)"
   ]
  },
  {
   "cell_type": "markdown",
   "metadata": {},
   "source": [
    "Now that the dataframes are ready for use let's figure out what we have.\\\n",
    "These are the first questions that hit me:\n",
    "- How many categories are included in this dataset?\n",
    "- Do we have a lot of species or just a few?\n",
    "- Wich park are available?\n",
    "- Which endangered animals are observed frequently?\n",
    "\n",
    "We can start our journey by answering these simple questions.\n",
    "\n",
    "### Dataset basic description\n",
    "By joining `s_info_df` and `obs_df` together in a single dataframe (`join_df`) we can better investigate some connections.\\\n",
    "However it is necessary that the `s_info_df` has unique values for the key we will use for the merging process.\\\n",
    "In our case the index used for merge is the `scientific_name` column: one species can be only in one state (*endangered*, *thretened*, etc.) at a given time.\\\n",
    "A quick check for duplicates is required."
   ]
  },
  {
   "cell_type": "code",
   "execution_count": 5,
   "metadata": {},
   "outputs": [
    {
     "name": "stdout",
     "output_type": "stream",
     "text": [
      "Duplicates: 557\n"
     ]
    }
   ],
   "source": [
    "s_duplicates = s_info_df[s_info_df.scientific_name.duplicated(keep=False)]\n",
    "print(f'Duplicates: {len(s_duplicates)}')"
   ]
  },
  {
   "cell_type": "markdown",
   "metadata": {},
   "source": [
    "Ok, it make sense to keep only the worst record among the duplicates.\\\n",
    "For example, if a species shows both *threatened* and *endangered* only *endangered* is kept, as this should give us the worst scenario in terms of risk.\\\n",
    "We can drop duplicates from `s_info_df` and keep only the first item."
   ]
  },
  {
   "cell_type": "code",
   "execution_count": 6,
   "metadata": {
    "scrolled": false
   },
   "outputs": [],
   "source": [
    "# Canis lupus example (before) displayed on next code cell\n",
    "cl_before = s_info_df[s_info_df.scientific_name.str.contains('Canis lupus')].reset_index(drop=True)\n",
    "cl_before = cl_before.style.set_caption('Canis Lupus duplicates before removal')\n",
    "\n",
    "# Drop duplicates\n",
    "s_info_df.drop_duplicates(inplace=True, subset='scientific_name', keep='first')\n",
    "s_info_df.reset_index(drop=True, inplace=True)"
   ]
  },
  {
   "cell_type": "markdown",
   "metadata": {},
   "source": [
    "Then we update the relevant records with the worst status available among the duplicates(results for `'Canis Lupus'` are shown before and after the process).\\\n",
    "Finally we have the the call to `merge`."
   ]
  },
  {
   "cell_type": "code",
   "execution_count": 7,
   "metadata": {
    "scrolled": false
   },
   "outputs": [
    {
     "data": {
      "text/html": [
       "<style  type=\"text/css\" >\n",
       "</style><table id=\"T_cf16b_\" ><caption>Canis Lupus duplicates before removal</caption><thead>    <tr>        <th class=\"blank level0\" ></th>        <th class=\"col_heading level0 col0\" >category</th>        <th class=\"col_heading level0 col1\" >scientific_name</th>        <th class=\"col_heading level0 col2\" >common_names</th>        <th class=\"col_heading level0 col3\" >conservation_status</th>    </tr></thead><tbody>\n",
       "                <tr>\n",
       "                        <th id=\"T_cf16b_level0_row0\" class=\"row_heading level0 row0\" >0</th>\n",
       "                        <td id=\"T_cf16b_row0_col0\" class=\"data row0 col0\" >Mammal</td>\n",
       "                        <td id=\"T_cf16b_row0_col1\" class=\"data row0 col1\" >Canis lupus</td>\n",
       "                        <td id=\"T_cf16b_row0_col2\" class=\"data row0 col2\" >Gray Wolf</td>\n",
       "                        <td id=\"T_cf16b_row0_col3\" class=\"data row0 col3\" >Endangered</td>\n",
       "            </tr>\n",
       "            <tr>\n",
       "                        <th id=\"T_cf16b_level0_row1\" class=\"row_heading level0 row1\" >1</th>\n",
       "                        <td id=\"T_cf16b_row1_col0\" class=\"data row1 col0\" >Mammal</td>\n",
       "                        <td id=\"T_cf16b_row1_col1\" class=\"data row1 col1\" >Canis lupus</td>\n",
       "                        <td id=\"T_cf16b_row1_col2\" class=\"data row1 col2\" >Gray Wolf, Wolf</td>\n",
       "                        <td id=\"T_cf16b_row1_col3\" class=\"data row1 col3\" >In Recovery</td>\n",
       "            </tr>\n",
       "            <tr>\n",
       "                        <th id=\"T_cf16b_level0_row2\" class=\"row_heading level0 row2\" >2</th>\n",
       "                        <td id=\"T_cf16b_row2_col0\" class=\"data row2 col0\" >Mammal</td>\n",
       "                        <td id=\"T_cf16b_row2_col1\" class=\"data row2 col1\" >Canis lupus</td>\n",
       "                        <td id=\"T_cf16b_row2_col2\" class=\"data row2 col2\" >Gray Wolf, Wolf</td>\n",
       "                        <td id=\"T_cf16b_row2_col3\" class=\"data row2 col3\" >Endangered</td>\n",
       "            </tr>\n",
       "    </tbody></table>"
      ],
      "text/plain": [
       "<pandas.io.formats.style.Styler at 0x7ffb6c658e50>"
      ]
     },
     "metadata": {},
     "output_type": "display_data"
    },
    {
     "data": {
      "text/html": [
       "<style  type=\"text/css\" >\n",
       "</style><table id=\"T_9a491_\" ><caption>Canis Lupus duplicates after removal</caption><thead>    <tr>        <th class=\"blank level0\" ></th>        <th class=\"col_heading level0 col0\" >category</th>        <th class=\"col_heading level0 col1\" >scientific_name</th>        <th class=\"col_heading level0 col2\" >common_names</th>        <th class=\"col_heading level0 col3\" >conservation_status</th>    </tr></thead><tbody>\n",
       "                <tr>\n",
       "                        <th id=\"T_9a491_level0_row0\" class=\"row_heading level0 row0\" >0</th>\n",
       "                        <td id=\"T_9a491_row0_col0\" class=\"data row0 col0\" >Mammal</td>\n",
       "                        <td id=\"T_9a491_row0_col1\" class=\"data row0 col1\" >Canis lupus</td>\n",
       "                        <td id=\"T_9a491_row0_col2\" class=\"data row0 col2\" >Gray Wolf</td>\n",
       "                        <td id=\"T_9a491_row0_col3\" class=\"data row0 col3\" >Endangered</td>\n",
       "            </tr>\n",
       "    </tbody></table>"
      ],
      "text/plain": [
       "<pandas.io.formats.style.Styler at 0x7ffb6ac417f0>"
      ]
     },
     "metadata": {},
     "output_type": "display_data"
    },
    {
     "data": {
      "text/html": [
       "<style  type=\"text/css\" >\n",
       "</style><table id=\"T_77c03_\" ><caption>Join process result (first rows)</caption><thead>    <tr>        <th class=\"blank level0\" ></th>        <th class=\"col_heading level0 col0\" >category</th>        <th class=\"col_heading level0 col1\" >scientific_name</th>        <th class=\"col_heading level0 col2\" >common_names</th>        <th class=\"col_heading level0 col3\" >conservation_status</th>        <th class=\"col_heading level0 col4\" >park_name</th>        <th class=\"col_heading level0 col5\" >observations</th>    </tr></thead><tbody>\n",
       "                <tr>\n",
       "                        <th id=\"T_77c03_level0_row0\" class=\"row_heading level0 row0\" >0</th>\n",
       "                        <td id=\"T_77c03_row0_col0\" class=\"data row0 col0\" >Mammal</td>\n",
       "                        <td id=\"T_77c03_row0_col1\" class=\"data row0 col1\" >Clethrionomys gapperi gapperi</td>\n",
       "                        <td id=\"T_77c03_row0_col2\" class=\"data row0 col2\" >Gapper's Red-Backed Vole</td>\n",
       "                        <td id=\"T_77c03_row0_col3\" class=\"data row0 col3\" >Low Risk</td>\n",
       "                        <td id=\"T_77c03_row0_col4\" class=\"data row0 col4\" >Bryce </td>\n",
       "                        <td id=\"T_77c03_row0_col5\" class=\"data row0 col5\" >130</td>\n",
       "            </tr>\n",
       "            <tr>\n",
       "                        <th id=\"T_77c03_level0_row1\" class=\"row_heading level0 row1\" >1</th>\n",
       "                        <td id=\"T_77c03_row1_col0\" class=\"data row1 col0\" >Mammal</td>\n",
       "                        <td id=\"T_77c03_row1_col1\" class=\"data row1 col1\" >Clethrionomys gapperi gapperi</td>\n",
       "                        <td id=\"T_77c03_row1_col2\" class=\"data row1 col2\" >Gapper's Red-Backed Vole</td>\n",
       "                        <td id=\"T_77c03_row1_col3\" class=\"data row1 col3\" >Low Risk</td>\n",
       "                        <td id=\"T_77c03_row1_col4\" class=\"data row1 col4\" >Yellowstone </td>\n",
       "                        <td id=\"T_77c03_row1_col5\" class=\"data row1 col5\" >270</td>\n",
       "            </tr>\n",
       "            <tr>\n",
       "                        <th id=\"T_77c03_level0_row2\" class=\"row_heading level0 row2\" >2</th>\n",
       "                        <td id=\"T_77c03_row2_col0\" class=\"data row2 col0\" >Mammal</td>\n",
       "                        <td id=\"T_77c03_row2_col1\" class=\"data row2 col1\" >Clethrionomys gapperi gapperi</td>\n",
       "                        <td id=\"T_77c03_row2_col2\" class=\"data row2 col2\" >Gapper's Red-Backed Vole</td>\n",
       "                        <td id=\"T_77c03_row2_col3\" class=\"data row2 col3\" >Low Risk</td>\n",
       "                        <td id=\"T_77c03_row2_col4\" class=\"data row2 col4\" >Great Smoky Mountains </td>\n",
       "                        <td id=\"T_77c03_row2_col5\" class=\"data row2 col5\" >98</td>\n",
       "            </tr>\n",
       "            <tr>\n",
       "                        <th id=\"T_77c03_level0_row3\" class=\"row_heading level0 row3\" >3</th>\n",
       "                        <td id=\"T_77c03_row3_col0\" class=\"data row3 col0\" >Mammal</td>\n",
       "                        <td id=\"T_77c03_row3_col1\" class=\"data row3 col1\" >Clethrionomys gapperi gapperi</td>\n",
       "                        <td id=\"T_77c03_row3_col2\" class=\"data row3 col2\" >Gapper's Red-Backed Vole</td>\n",
       "                        <td id=\"T_77c03_row3_col3\" class=\"data row3 col3\" >Low Risk</td>\n",
       "                        <td id=\"T_77c03_row3_col4\" class=\"data row3 col4\" >Yosemite </td>\n",
       "                        <td id=\"T_77c03_row3_col5\" class=\"data row3 col5\" >117</td>\n",
       "            </tr>\n",
       "            <tr>\n",
       "                        <th id=\"T_77c03_level0_row4\" class=\"row_heading level0 row4\" >4</th>\n",
       "                        <td id=\"T_77c03_row4_col0\" class=\"data row4 col0\" >Mammal</td>\n",
       "                        <td id=\"T_77c03_row4_col1\" class=\"data row4 col1\" >Bos bison</td>\n",
       "                        <td id=\"T_77c03_row4_col2\" class=\"data row4 col2\" >American Bison, Bison</td>\n",
       "                        <td id=\"T_77c03_row4_col3\" class=\"data row4 col3\" >Low Risk</td>\n",
       "                        <td id=\"T_77c03_row4_col4\" class=\"data row4 col4\" >Yosemite </td>\n",
       "                        <td id=\"T_77c03_row4_col5\" class=\"data row4 col5\" >128</td>\n",
       "            </tr>\n",
       "    </tbody></table>"
      ],
      "text/plain": [
       "<pandas.io.formats.style.Styler at 0x7ffb6ac41bb0>"
      ]
     },
     "metadata": {},
     "output_type": "display_data"
    }
   ],
   "source": [
    "# Worst cases\n",
    "worst_cases = s_duplicates.groupby('scientific_name').conservation_status.max()\n",
    "\n",
    "# Update the status for each duplicate that we kept\n",
    "for species, worst_risk in worst_cases.iteritems():\n",
    "    s_info_df.conservation_status[s_info_df.scientific_name == species] = worst_risk\n",
    "\n",
    "# Canis lupus example (before)\n",
    "display(cl_before)\n",
    "\n",
    "# Canis lupus example (after)\n",
    "cl_after = s_info_df[s_info_df.scientific_name.str.contains('Canis lupus')].reset_index(drop=True)\n",
    "cl_after = cl_after.style.set_caption('Canis Lupus duplicates after removal')\n",
    "display(cl_after)\n",
    "\n",
    "# Join\n",
    "join_df = s_info_df.merge(obs_df, on='scientific_name', how='outer')\n",
    "display(join_df.head(5).style\n",
    "       .set_caption('Join process result (first rows)'))"
   ]
  },
  {
   "cell_type": "markdown",
   "metadata": {},
   "source": [
    "If the merge was done correctly we should end with a dataframe that is as long as the observation dataframe.\n",
    "This because we choose an `'outer'` join and we expect that all values in the `scientific_name` column are used inside the observations dataframe (`obs_df`)."
   ]
  },
  {
   "cell_type": "code",
   "execution_count": 8,
   "metadata": {},
   "outputs": [
    {
     "name": "stdout",
     "output_type": "stream",
     "text": [
      "Length of s_info_df: \t5541\n",
      "Length of obs_df: \t23296\n",
      "Length of join_df: \t23296\n"
     ]
    }
   ],
   "source": [
    "print(f'Length of s_info_df: \\t{len(s_info_df)}')\n",
    "print(f'Length of obs_df: \\t{len(obs_df)}')\n",
    "print(f'Length of join_df: \\t{len(join_df)}')"
   ]
  },
  {
   "cell_type": "markdown",
   "metadata": {},
   "source": [
    "Well done!\\\n",
    "Now we can answer to exploratory questions."
   ]
  },
  {
   "cell_type": "markdown",
   "metadata": {},
   "source": [
    "#### Categories\n",
    "A simple bar graph describing the number of observations per category will show which categories exist in our dataset. In addition we will get an idea of the most frequent ones."
   ]
  },
  {
   "cell_type": "code",
   "execution_count": 9,
   "metadata": {
    "scrolled": false
   },
   "outputs": [
    {
     "data": {
      "image/png": "[encoded data removed]",
      "text/plain": [
       "<Figure size 720x504 with 1 Axes>"
      ]
     },
     "metadata": {},
     "output_type": "display_data"
    },
    {
     "data": {
      "text/html": [
       "<style  type=\"text/css\" >\n",
       "#T_37ad4_row0_col0,#T_37ad4_row0_col1,#T_37ad4_row1_col0,#T_37ad4_row1_col1,#T_37ad4_row2_col0,#T_37ad4_row2_col1,#T_37ad4_row3_col0,#T_37ad4_row3_col1,#T_37ad4_row4_col0,#T_37ad4_row4_col1,#T_37ad4_row5_col0,#T_37ad4_row5_col1,#T_37ad4_row6_col0,#T_37ad4_row6_col1{\n",
       "            width:  120px;\n",
       "        }</style><table id=\"T_37ad4_\" ><thead>    <tr>        <th class=\"blank level0\" ></th>        <th class=\"col_heading level0 col0\" >category</th>        <th class=\"col_heading level0 col1\" >observations</th>    </tr></thead><tbody>\n",
       "                <tr>\n",
       "                        <th id=\"T_37ad4_level0_row0\" class=\"row_heading level0 row0\" >0</th>\n",
       "                        <td id=\"T_37ad4_row0_col0\" class=\"data row0 col0\" >Vascular Plant</td>\n",
       "                        <td id=\"T_37ad4_row0_col1\" class=\"data row0 col1\" >2555090</td>\n",
       "            </tr>\n",
       "            <tr>\n",
       "                        <th id=\"T_37ad4_level0_row1\" class=\"row_heading level0 row1\" >1</th>\n",
       "                        <td id=\"T_37ad4_row1_col0\" class=\"data row1 col0\" >Bird</td>\n",
       "                        <td id=\"T_37ad4_row1_col1\" class=\"data row1 col1\" >292833</td>\n",
       "            </tr>\n",
       "            <tr>\n",
       "                        <th id=\"T_37ad4_level0_row2\" class=\"row_heading level0 row2\" >2</th>\n",
       "                        <td id=\"T_37ad4_row2_col0\" class=\"data row2 col0\" >Nonvascular Plant</td>\n",
       "                        <td id=\"T_37ad4_row2_col1\" class=\"data row2 col1\" >190653</td>\n",
       "            </tr>\n",
       "            <tr>\n",
       "                        <th id=\"T_37ad4_level0_row3\" class=\"row_heading level0 row3\" >3</th>\n",
       "                        <td id=\"T_37ad4_row3_col0\" class=\"data row3 col0\" >Mammal</td>\n",
       "                        <td id=\"T_37ad4_row3_col1\" class=\"data row3 col1\" >116696</td>\n",
       "            </tr>\n",
       "            <tr>\n",
       "                        <th id=\"T_37ad4_level0_row4\" class=\"row_heading level0 row4\" >4</th>\n",
       "                        <td id=\"T_37ad4_row4_col0\" class=\"data row4 col0\" >Fish</td>\n",
       "                        <td id=\"T_37ad4_row4_col1\" class=\"data row4 col1\" >70818</td>\n",
       "            </tr>\n",
       "            <tr>\n",
       "                        <th id=\"T_37ad4_level0_row5\" class=\"row_heading level0 row5\" >5</th>\n",
       "                        <td id=\"T_37ad4_row5_col0\" class=\"data row5 col0\" >Reptile</td>\n",
       "                        <td id=\"T_37ad4_row5_col1\" class=\"data row5 col1\" >44678</td>\n",
       "            </tr>\n",
       "            <tr>\n",
       "                        <th id=\"T_37ad4_level0_row6\" class=\"row_heading level0 row6\" >6</th>\n",
       "                        <td id=\"T_37ad4_row6_col0\" class=\"data row6 col0\" >Amphibian</td>\n",
       "                        <td id=\"T_37ad4_row6_col1\" class=\"data row6 col1\" >43971</td>\n",
       "            </tr>\n",
       "    </tbody></table>"
      ],
      "text/plain": [
       "<pandas.io.formats.style.Styler at 0x7ffb6b99b0d0>"
      ]
     },
     "metadata": {},
     "output_type": "display_data"
    }
   ],
   "source": [
    "# Theme preferences (used for every plot)\n",
    "sns.set_theme(style='ticks', rc={'axes.grid': True})\n",
    "\n",
    "# Create grouped frame with category and observations\n",
    "obs_and_cat_df = join_df[['category', 'observations']].groupby('category').sum()\\\n",
    "                                                      .sort_values('observations', ascending=False)\\\n",
    "                                                      .reset_index()\n",
    "\n",
    "# Bar plot\n",
    "plt.figure(figsize=[10, 7])\n",
    "sns.barplot(x=obs_and_cat_df.category, y=obs_and_cat_df.observations)\n",
    "# Labels\n",
    "plt.xlabel('Category')\n",
    "plt.ylabel('Observations')\n",
    "# y axis as thousands of observations\n",
    "plt.yscale('log')\n",
    "plt.grid(b=True, which='minor', linestyle='--', alpha=0.8)\n",
    "plt.gca().yaxis.set_major_formatter(lambda x, pos: '0' if x==0 else '{:.0f}k'.format(x * 1e-3))\n",
    "plt.gca().yaxis.set_minor_formatter(lambda x, pos: '0' if x==0 else '{:.0f}k'.format(x * 1e-3))\n",
    "plt.tick_params(which='minor', labelsize = 9)\n",
    "\n",
    "plt.show()\n",
    "\n",
    "# Add table\n",
    "display(obs_and_cat_df.style.set_properties(width=df_width))"
   ]
  },
  {
   "cell_type": "markdown",
   "metadata": {},
   "source": [
    "Seven categories are present: if you do not know the difference between [vascular](https://en.wikipedia.org/wiki/Vascular_plant) and [nonvascular](https://en.wikipedia.org/wiki/Non-vascular_plant) plants, take a look at *Wikipedia*.\\\n",
    "We see that *vascular plants* are the clear winner and that *birds* are most frequently spotted animals.\n",
    "\n",
    "#### Species\n",
    "The *number of species* is rather high instead: in this case a `barplot` would show a confusing ensamble of bars, rather than a synthetic visualization."
   ]
  },
  {
   "cell_type": "code",
   "execution_count": 10,
   "metadata": {
    "scrolled": true
   },
   "outputs": [
    {
     "name": "stdout",
     "output_type": "stream",
     "text": [
      "Unique species in dataset: 5541\n"
     ]
    }
   ],
   "source": [
    "# Create grouped frame with category and observations\n",
    "unique_species = join_df.scientific_name.unique()\n",
    "print(f\"Unique species in dataset: {len(unique_species)}\")"
   ]
  },
  {
   "cell_type": "markdown",
   "metadata": {},
   "source": [
    "#### Parks\n",
    "The same approach used for *categories* is repeated for *parks*.\n",
    "The difference here is that also *observations shares* in percent are shown."
   ]
  },
  {
   "cell_type": "code",
   "execution_count": 22,
   "metadata": {
    "scrolled": false
   },
   "outputs": [
    {
     "data": {
      "image/png": "[encoded data removed]",
      "text/plain": [
       "<Figure size 576x288 with 1 Axes>"
      ]
     },
     "metadata": {},
     "output_type": "display_data"
    },
    {
     "data": {
      "image/png": "[encoded data removed]",
      "text/plain": [
       "<Figure size 936x576 with 1 Axes>"
      ]
     },
     "metadata": {},
     "output_type": "display_data"
    },
    {
     "data": {
      "text/html": [
       "<style  type=\"text/css\" >\n",
       "</style><table id=\"T_4bb30_\" ><caption>Observation percentages</caption><thead>    <tr>        <th class=\"index_name level0\" >Category</th>        <th class=\"col_heading level0 col0\" >Amphibian</th>        <th class=\"col_heading level0 col1\" >Bird</th>        <th class=\"col_heading level0 col2\" >Fish</th>        <th class=\"col_heading level0 col3\" >Mammal</th>        <th class=\"col_heading level0 col4\" >Nonvascular Plant</th>        <th class=\"col_heading level0 col5\" >Reptile</th>        <th class=\"col_heading level0 col6\" >Vascular Plant</th>    </tr>    <tr>        <th class=\"index_name level0\" >Park name</th>        <th class=\"blank\" ></th>        <th class=\"blank\" ></th>        <th class=\"blank\" ></th>        <th class=\"blank\" ></th>        <th class=\"blank\" ></th>        <th class=\"blank\" ></th>        <th class=\"blank\" ></th>    </tr></thead><tbody>\n",
       "                <tr>\n",
       "                        <th id=\"T_4bb30_level0_row0\" class=\"row_heading level0 row0\" >Bryce </th>\n",
       "                        <td id=\"T_4bb30_row0_col0\" class=\"data row0 col0\" >1.3%</td>\n",
       "                        <td id=\"T_4bb30_row0_col1\" class=\"data row0 col1\" >9.0%</td>\n",
       "                        <td id=\"T_4bb30_row0_col2\" class=\"data row0 col2\" >2.2%</td>\n",
       "                        <td id=\"T_4bb30_row0_col3\" class=\"data row0 col3\" >3.6%</td>\n",
       "                        <td id=\"T_4bb30_row0_col4\" class=\"data row0 col4\" >5.7%</td>\n",
       "                        <td id=\"T_4bb30_row0_col5\" class=\"data row0 col5\" >1.4%</td>\n",
       "                        <td id=\"T_4bb30_row0_col6\" class=\"data row0 col6\" >76.9%</td>\n",
       "            </tr>\n",
       "            <tr>\n",
       "                        <th id=\"T_4bb30_level0_row1\" class=\"row_heading level0 row1\" >Great Smoky Mountains </th>\n",
       "                        <td id=\"T_4bb30_row1_col0\" class=\"data row1 col0\" >1.3%</td>\n",
       "                        <td id=\"T_4bb30_row1_col1\" class=\"data row1 col1\" >8.7%</td>\n",
       "                        <td id=\"T_4bb30_row1_col2\" class=\"data row1 col2\" >2.1%</td>\n",
       "                        <td id=\"T_4bb30_row1_col3\" class=\"data row1 col3\" >3.5%</td>\n",
       "                        <td id=\"T_4bb30_row1_col4\" class=\"data row1 col4\" >5.8%</td>\n",
       "                        <td id=\"T_4bb30_row1_col5\" class=\"data row1 col5\" >1.3%</td>\n",
       "                        <td id=\"T_4bb30_row1_col6\" class=\"data row1 col6\" >77.3%</td>\n",
       "            </tr>\n",
       "            <tr>\n",
       "                        <th id=\"T_4bb30_level0_row2\" class=\"row_heading level0 row2\" >Yellowstone </th>\n",
       "                        <td id=\"T_4bb30_row2_col0\" class=\"data row2 col0\" >1.3%</td>\n",
       "                        <td id=\"T_4bb30_row2_col1\" class=\"data row2 col1\" >8.8%</td>\n",
       "                        <td id=\"T_4bb30_row2_col2\" class=\"data row2 col2\" >2.1%</td>\n",
       "                        <td id=\"T_4bb30_row2_col3\" class=\"data row2 col3\" >3.5%</td>\n",
       "                        <td id=\"T_4bb30_row2_col4\" class=\"data row2 col4\" >5.8%</td>\n",
       "                        <td id=\"T_4bb30_row2_col5\" class=\"data row2 col5\" >1.4%</td>\n",
       "                        <td id=\"T_4bb30_row2_col6\" class=\"data row2 col6\" >77.1%</td>\n",
       "            </tr>\n",
       "            <tr>\n",
       "                        <th id=\"T_4bb30_level0_row3\" class=\"row_heading level0 row3\" >Yosemite </th>\n",
       "                        <td id=\"T_4bb30_row3_col0\" class=\"data row3 col0\" >1.3%</td>\n",
       "                        <td id=\"T_4bb30_row3_col1\" class=\"data row3 col1\" >8.8%</td>\n",
       "                        <td id=\"T_4bb30_row3_col2\" class=\"data row3 col2\" >2.2%</td>\n",
       "                        <td id=\"T_4bb30_row3_col3\" class=\"data row3 col3\" >3.5%</td>\n",
       "                        <td id=\"T_4bb30_row3_col4\" class=\"data row3 col4\" >5.8%</td>\n",
       "                        <td id=\"T_4bb30_row3_col5\" class=\"data row3 col5\" >1.3%</td>\n",
       "                        <td id=\"T_4bb30_row3_col6\" class=\"data row3 col6\" >77.1%</td>\n",
       "            </tr>\n",
       "    </tbody></table>"
      ],
      "text/plain": [
       "<pandas.io.formats.style.Styler at 0x7ffb6ae71250>"
      ]
     },
     "metadata": {},
     "output_type": "display_data"
    }
   ],
   "source": [
    "# Create grouped frame with parks and observations\n",
    "obs_and_park_df = join_df.pivot_table(index='park_name', columns='category', values='observations', aggfunc=sum)\n",
    "# Convert value to percentage\n",
    "obs_and_park_df = obs_and_park_df.apply(lambda x: x/x.sum()*100, axis=1)\n",
    "# Adjust row/column description\n",
    "obs_and_park_df.rename_axis('Park name', inplace=True)\n",
    "obs_and_park_df.rename_axis('Category', axis='columns', inplace=True)\n",
    "\n",
    "# Bar plot absolute values of observations\n",
    "plt.figure(figsize=[8, 4])\n",
    "sns.barplot(data=join_df, x='park_name', y='observations', estimator=sum, ci=None)\n",
    "# Labels\n",
    "plt.xlabel('Park')\n",
    "plt.ylabel('Observations')\n",
    "# y axis as thousands of observations\n",
    "plt.grid(b=True, which='minor', linestyle='--', alpha=0.8)\n",
    "plt.gca().yaxis.set_major_formatter(lambda x, pos: '0' if x==0 else '{:.0f}k'.format(x * 1e-3))\n",
    "plt.gca().yaxis.set_minor_formatter(lambda x, pos: '0' if x==0 else '{:.0f}k'.format(x * 1e-3))\n",
    "# Title\n",
    "plt.title('Observations in National Parks')\n",
    "\n",
    "plt.show()\n",
    "\n",
    "# Bar plot percentages\n",
    "obs_and_park_df.plot(kind='bar', stacked=False, figsize=[13, 8])\n",
    "# Labels\n",
    "plt.xlabel('Park')\n",
    "plt.ylabel('Percentage of Observations')\n",
    "# y axis as thousands of observations\n",
    "plt.grid(b=True, which='minor', linestyle='--', alpha=0.8)\n",
    "plt.gca().yaxis.set_minor_locator(MultipleLocator(5))\n",
    "plt.gca().yaxis.set_major_formatter(lambda x, pos: '{:.0f}%'.format(x))\n",
    "plt.xticks(rotation=0)\n",
    "# Title\n",
    "plt.title('Observation Shares by Category')\n",
    "\n",
    "plt.show()\n",
    "\n",
    "# Add table\n",
    "display(obs_and_park_df.style\n",
    "        .format(\"{:.1f}%\")\n",
    "        .set_caption('Observation percentages'))"
   ]
  },
  {
   "cell_type": "markdown",
   "metadata": {},
   "source": [
    "There are four parks and *Yellowstone* definitely has the lead in terms of number of observations.\\\n",
    "However it is clear that observations percentages by categories are practically the same (and this is probably a sign that *the dataset is fictional*).\n",
    "\n",
    "#### Frequent observations of endangered animals\n",
    "We want to find frequently spotted endangered animals: we can look at the frequence of words in `common_names` column.\\\n",
    "Since we are interested in *species at risk* it is better to create two dedicated dataframes, `endangered_species` and `endangered_obs`, which exclude the `'Low Risk'` label from species informations and observation statuses respectively.\\\n",
    "Repeated names belong to frequently observed animals."
   ]
  },
  {
   "cell_type": "code",
   "execution_count": 23,
   "metadata": {},
   "outputs": [
    {
     "data": {
      "text/html": [
       "<style  type=\"text/css\" >\n",
       "</style><table id=\"T_0b383_\" ><caption>Frequent words - top 20</caption><thead>    <tr>        <th class=\"blank level0\" ></th>        <th class=\"col_heading level0 col0\" >word_count</th>    </tr></thead><tbody>\n",
       "                <tr>\n",
       "                        <th id=\"T_0b383_level0_row0\" class=\"row_heading level0 row0\" >Myotis</th>\n",
       "                        <td id=\"T_0b383_row0_col0\" class=\"data row0 col0\" >96</td>\n",
       "            </tr>\n",
       "            <tr>\n",
       "                        <th id=\"T_0b383_level0_row1\" class=\"row_heading level0 row1\" >Bat</th>\n",
       "                        <td id=\"T_0b383_row1_col0\" class=\"data row1 col0\" >60</td>\n",
       "            </tr>\n",
       "            <tr>\n",
       "                        <th id=\"T_0b383_level0_row2\" class=\"row_heading level0 row2\" >Brown</th>\n",
       "                        <td id=\"T_0b383_row2_col0\" class=\"data row2 col0\" >40</td>\n",
       "            </tr>\n",
       "            <tr>\n",
       "                        <th id=\"T_0b383_level0_row3\" class=\"row_heading level0 row3\" >Northern</th>\n",
       "                        <td id=\"T_0b383_row3_col0\" class=\"data row3 col0\" >28</td>\n",
       "            </tr>\n",
       "            <tr>\n",
       "                        <th id=\"T_0b383_level0_row4\" class=\"row_heading level0 row4\" >California</th>\n",
       "                        <td id=\"T_0b383_row4_col0\" class=\"data row4 col0\" >28</td>\n",
       "            </tr>\n",
       "            <tr>\n",
       "                        <th id=\"T_0b383_level0_row5\" class=\"row_heading level0 row5\" >American</th>\n",
       "                        <td id=\"T_0b383_row5_col0\" class=\"data row5 col0\" >28</td>\n",
       "            </tr>\n",
       "            <tr>\n",
       "                        <th id=\"T_0b383_level0_row6\" class=\"row_heading level0 row6\" >Mountain</th>\n",
       "                        <td id=\"T_0b383_row6_col0\" class=\"data row6 col0\" >28</td>\n",
       "            </tr>\n",
       "            <tr>\n",
       "                        <th id=\"T_0b383_level0_row7\" class=\"row_heading level0 row7\" >Little</th>\n",
       "                        <td id=\"T_0b383_row7_col0\" class=\"data row7 col0\" >24</td>\n",
       "            </tr>\n",
       "            <tr>\n",
       "                        <th id=\"T_0b383_level0_row8\" class=\"row_heading level0 row8\" >Wolf</th>\n",
       "                        <td id=\"T_0b383_row8_col0\" class=\"data row8 col0\" >16</td>\n",
       "            </tr>\n",
       "            <tr>\n",
       "                        <th id=\"T_0b383_level0_row9\" class=\"row_heading level0 row9\" >Long-Eared</th>\n",
       "                        <td id=\"T_0b383_row9_col0\" class=\"data row9 col0\" >16</td>\n",
       "            </tr>\n",
       "            <tr>\n",
       "                        <th id=\"T_0b383_level0_row10\" class=\"row_heading level0 row10\" >Gray</th>\n",
       "                        <td id=\"T_0b383_row10_col0\" class=\"data row10 col0\" >16</td>\n",
       "            </tr>\n",
       "            <tr>\n",
       "                        <th id=\"T_0b383_level0_row11\" class=\"row_heading level0 row11\" >Badger</th>\n",
       "                        <td id=\"T_0b383_row11_col0\" class=\"data row11 col0\" >16</td>\n",
       "            </tr>\n",
       "            <tr>\n",
       "                        <th id=\"T_0b383_level0_row12\" class=\"row_heading level0 row12\" >Western</th>\n",
       "                        <td id=\"T_0b383_row12_col0\" class=\"data row12 col0\" >16</td>\n",
       "            </tr>\n",
       "            <tr>\n",
       "                        <th id=\"T_0b383_level0_row13\" class=\"row_heading level0 row13\" >Sparrow</th>\n",
       "                        <td id=\"T_0b383_row13_col0\" class=\"data row13 col0\" >16</td>\n",
       "            </tr>\n",
       "            <tr>\n",
       "                        <th id=\"T_0b383_level0_row14\" class=\"row_heading level0 row14\" >Common</th>\n",
       "                        <td id=\"T_0b383_row14_col0\" class=\"data row14 col0\" >16</td>\n",
       "            </tr>\n",
       "            <tr>\n",
       "                        <th id=\"T_0b383_level0_row15\" class=\"row_heading level0 row15\" >Nevada</th>\n",
       "                        <td id=\"T_0b383_row15_col0\" class=\"data row15 col0\" >16</td>\n",
       "            </tr>\n",
       "            <tr>\n",
       "                        <th id=\"T_0b383_level0_row16\" class=\"row_heading level0 row16\" >Snake</th>\n",
       "                        <td id=\"T_0b383_row16_col0\" class=\"data row16 col0\" >16</td>\n",
       "            </tr>\n",
       "            <tr>\n",
       "                        <th id=\"T_0b383_level0_row17\" class=\"row_heading level0 row17\" >Sierra</th>\n",
       "                        <td id=\"T_0b383_row17_col0\" class=\"data row17 col0\" >16</td>\n",
       "            </tr>\n",
       "            <tr>\n",
       "                        <th id=\"T_0b383_level0_row18\" class=\"row_heading level0 row18\" >Hawk</th>\n",
       "                        <td id=\"T_0b383_row18_col0\" class=\"data row18 col0\" >16</td>\n",
       "            </tr>\n",
       "            <tr>\n",
       "                        <th id=\"T_0b383_level0_row19\" class=\"row_heading level0 row19\" >Warbler</th>\n",
       "                        <td id=\"T_0b383_row19_col0\" class=\"data row19 col0\" >16</td>\n",
       "            </tr>\n",
       "    </tbody></table>"
      ],
      "text/plain": [
       "<pandas.io.formats.style.Styler at 0x7ffb6be30d60>"
      ]
     },
     "metadata": {},
     "output_type": "display_data"
    }
   ],
   "source": [
    "# Create endangered dataframe for both s_info_df and join_df\n",
    "endangered_species = s_info_df[~ s_info_df.conservation_status.isin(['Low Risk'])].copy()\n",
    "endangered_obs = join_df[~ join_df.conservation_status.isin(['Low Risk'])].copy()\n",
    "\n",
    "# Remove low risk from categories\n",
    "endangered_species.conservation_status = endangered_species.conservation_status.cat.remove_unused_categories()\n",
    "endangered_obs.conservation_status = endangered_obs.conservation_status.cat.remove_unused_categories()\n",
    "\n",
    "# Crate a bag of words with all words from common names in observations\n",
    "bag_words = endangered_obs.common_names.str.replace(',', '').str.split('\\s')\n",
    "# Create a list of words\n",
    "names_words = []\n",
    "for index, words in bag_words.iteritems():\n",
    "    names_words.extend(words)\n",
    "# Find values count\n",
    "names_words = pd.Series(names_words, name='word_count')\n",
    "word_count = names_words.value_counts().to_frame()\n",
    "# Look at first 20\n",
    "display(word_count[:20].style.set_caption('Frequent words - top 20'))"
   ]
  },
  {
   "cell_type": "markdown",
   "metadata": {},
   "source": [
    "Following endangered animals are easier to observe during a visit:\n",
    "- Bats\n",
    "- Badgers\n",
    "- Warbiers\n",
    "- Wolves\n",
    "- Snakes\n",
    "- Sparrows\n",
    "- Hawks"
   ]
  },
  {
   "cell_type": "markdown",
   "metadata": {},
   "source": [
    "## Scope of Project\n",
    "After completing the exploratory analysis, let's define the scope of the project.\\\n",
    "Based on what above we will investigate the following questions:\n",
    "- Which categories (`Bird`, `Mammal`, etc.) have the highest chance to become at risk an need attention?\n",
    "- Sparrow and hawks are observed frequently and they belong to the same category (*birds*):\\\n",
    "is the relationship between observations of these species and their risk of extinction statistically significant?\n",
    "- Which park has more observations of endangered sparrows and hawks?\n",
    "\n",
    "It looks like we're going to be very commited about birds: let's get ready to fly then!"
   ]
  },
  {
   "cell_type": "markdown",
   "metadata": {},
   "source": [
    "### Species at risk\n",
    "After replacing `NaN`values from `s_info_df` (see [\"Load CSV\"](#Load-CSV) paragraph) we take a closer look to the conservation status."
   ]
  },
  {
   "cell_type": "code",
   "execution_count": 13,
   "metadata": {
    "scrolled": false
   },
   "outputs": [
    {
     "data": {
      "text/html": [
       "<div>\n",
       "<style scoped>\n",
       "    .dataframe tbody tr th:only-of-type {\n",
       "        vertical-align: middle;\n",
       "    }\n",
       "\n",
       "    .dataframe tbody tr th {\n",
       "        vertical-align: top;\n",
       "    }\n",
       "\n",
       "    .dataframe thead th {\n",
       "        text-align: right;\n",
       "    }\n",
       "</style>\n",
       "<table border=\"1\" class=\"dataframe\">\n",
       "  <thead>\n",
       "    <tr style=\"text-align: right;\">\n",
       "      <th></th>\n",
       "      <th>conservation_status</th>\n",
       "    </tr>\n",
       "  </thead>\n",
       "  <tbody>\n",
       "    <tr>\n",
       "      <th>Low Risk</th>\n",
       "      <td>5362</td>\n",
       "    </tr>\n",
       "    <tr>\n",
       "      <th>Species of Concern</th>\n",
       "      <td>151</td>\n",
       "    </tr>\n",
       "    <tr>\n",
       "      <th>Endangered</th>\n",
       "      <td>15</td>\n",
       "    </tr>\n",
       "    <tr>\n",
       "      <th>Threatened</th>\n",
       "      <td>10</td>\n",
       "    </tr>\n",
       "    <tr>\n",
       "      <th>In Recovery</th>\n",
       "      <td>3</td>\n",
       "    </tr>\n",
       "  </tbody>\n",
       "</table>\n",
       "</div>"
      ],
      "text/plain": [
       "                    conservation_status\n",
       "Low Risk                           5362\n",
       "Species of Concern                  151\n",
       "Endangered                           15\n",
       "Threatened                           10\n",
       "In Recovery                           3"
      ]
     },
     "metadata": {},
     "output_type": "display_data"
    }
   ],
   "source": [
    "display(s_info_df.conservation_status.value_counts(dropna=False).to_frame())"
   ]
  },
  {
   "cell_type": "markdown",
   "metadata": {},
   "source": [
    "We notice that **the vast majority of species is not at risk**.\\\n",
    "It is nice to know!\\\n",
    "Now is the turn of endangered species, so we will refer to `endangered_species` and `endangered_obs` (see para. [Frequent observations of endangered animals](#Frequent-observations-of-endangered-animals))."
   ]
  },
  {
   "cell_type": "code",
   "execution_count": 14,
   "metadata": {},
   "outputs": [
    {
     "data": {
      "text/html": [
       "<div>\n",
       "<style scoped>\n",
       "    .dataframe tbody tr th:only-of-type {\n",
       "        vertical-align: middle;\n",
       "    }\n",
       "\n",
       "    .dataframe tbody tr th {\n",
       "        vertical-align: top;\n",
       "    }\n",
       "\n",
       "    .dataframe thead th {\n",
       "        text-align: right;\n",
       "    }\n",
       "</style>\n",
       "<table border=\"1\" class=\"dataframe\">\n",
       "  <thead>\n",
       "    <tr style=\"text-align: right;\">\n",
       "      <th></th>\n",
       "      <th>conservation_status</th>\n",
       "    </tr>\n",
       "  </thead>\n",
       "  <tbody>\n",
       "    <tr>\n",
       "      <th>Species of Concern</th>\n",
       "      <td>151</td>\n",
       "    </tr>\n",
       "    <tr>\n",
       "      <th>Endangered</th>\n",
       "      <td>15</td>\n",
       "    </tr>\n",
       "    <tr>\n",
       "      <th>Threatened</th>\n",
       "      <td>10</td>\n",
       "    </tr>\n",
       "    <tr>\n",
       "      <th>In Recovery</th>\n",
       "      <td>3</td>\n",
       "    </tr>\n",
       "  </tbody>\n",
       "</table>\n",
       "</div>"
      ],
      "text/plain": [
       "                    conservation_status\n",
       "Species of Concern                  151\n",
       "Endangered                           15\n",
       "Threatened                           10\n",
       "In Recovery                           3"
      ]
     },
     "metadata": {},
     "output_type": "display_data"
    }
   ],
   "source": [
    "display(endangered_species.conservation_status.value_counts(dropna=False).to_frame())"
   ]
  },
  {
   "cell_type": "markdown",
   "metadata": {},
   "source": [
    "\n",
    "There are 25 species under threat (either *endangered* or *threatened*) and 3 species under *recovery*.\\\n",
    "All of them need special attentions but maybe we can avoid other species to reach the same condition: **acting in advance is a good idea**.\\\n",
    "151 species in the `endangered_species`dataframe belong to the class *species of concern*, this is a considerable amount!"
   ]
  },
  {
   "cell_type": "code",
   "execution_count": 15,
   "metadata": {},
   "outputs": [
    {
     "data": {
      "image/png": "[encoded data removed]",
      "text/plain": [
       "<Figure size 576x360 with 1 Axes>"
      ]
     },
     "metadata": {},
     "output_type": "display_data"
    }
   ],
   "source": [
    "# Countplot\n",
    "plt.figure(figsize=[8, 5])\n",
    "sns.countplot(data=endangered_species, \n",
    "              x=\"conservation_status\", hue=\"category\")\n",
    "# Labels\n",
    "plt.xlabel('Conservation Status')\n",
    "plt.ylabel('Number of Species')\n",
    "# y axis as thousands of observations\n",
    "plt.grid(b=True, which='minor', linestyle='--', alpha=0.8)\n",
    "plt.gca().yaxis.set_minor_locator(MultipleLocator(5))\n",
    "# Title\n",
    "plt.title('Threat by Category')\n",
    "# Legend\n",
    "plt.legend(loc='upper right')\n",
    "\n",
    "plt.show()"
   ]
  },
  {
   "cell_type": "markdown",
   "metadata": {},
   "source": [
    "*Species of concern* are the one in need of conservation, therfore **a suggestion for conservationists is to monitor *mammals*, *birds* and *vascular plant*** listed under this class.\\\n",
    "Such categories show the highest numbers of species that are matter of concern: preventive actions may avoid that their condition worsen to an *endangered* or *threatened* state.\n",
    "\n",
    "### Statistical significance of relationship between sparrows, hawks and conservation status\n",
    "With regards to observations, is there an association between bird type (*hawk* or *sparrow*) and its conservation status (*low risk* or *species of concern* in this case)?\\\n",
    "We will investigate this by using `chi2_contingency` test from the `scipy` package."
   ]
  },
  {
   "cell_type": "code",
   "execution_count": 16,
   "metadata": {
    "scrolled": false
   },
   "outputs": [
    {
     "data": {
      "text/html": [
       "<style  type=\"text/css\" >\n",
       "</style><table id=\"T_7a06d_\" ><caption>Sparrows and hawks observations (first and last rows)</caption><thead>    <tr>        <th class=\"blank level0\" ></th>        <th class=\"col_heading level0 col0\" >park_name</th>        <th class=\"col_heading level0 col1\" >common_names</th>        <th class=\"col_heading level0 col2\" >conservation_status</th>        <th class=\"col_heading level0 col3\" >hawk_or_sparrow</th>    </tr></thead><tbody>\n",
       "                <tr>\n",
       "                        <th id=\"T_7a06d_level0_row0\" class=\"row_heading level0 row0\" >0</th>\n",
       "                        <td id=\"T_7a06d_row0_col0\" class=\"data row0 col0\" >Bryce </td>\n",
       "                        <td id=\"T_7a06d_row0_col1\" class=\"data row0 col1\" >Cooper's Hawk</td>\n",
       "                        <td id=\"T_7a06d_row0_col2\" class=\"data row0 col2\" >Species of Concern</td>\n",
       "                        <td id=\"T_7a06d_row0_col3\" class=\"data row0 col3\" >Hawk</td>\n",
       "            </tr>\n",
       "            <tr>\n",
       "                        <th id=\"T_7a06d_level0_row1\" class=\"row_heading level0 row1\" >1</th>\n",
       "                        <td id=\"T_7a06d_row1_col0\" class=\"data row1 col0\" >Yosemite </td>\n",
       "                        <td id=\"T_7a06d_row1_col1\" class=\"data row1 col1\" >Cooper's Hawk</td>\n",
       "                        <td id=\"T_7a06d_row1_col2\" class=\"data row1 col2\" >Species of Concern</td>\n",
       "                        <td id=\"T_7a06d_row1_col3\" class=\"data row1 col3\" >Hawk</td>\n",
       "            </tr>\n",
       "            <tr>\n",
       "                        <th id=\"T_7a06d_level0_row2\" class=\"row_heading level0 row2\" >2</th>\n",
       "                        <td id=\"T_7a06d_row2_col0\" class=\"data row2 col0\" >Yellowstone </td>\n",
       "                        <td id=\"T_7a06d_row2_col1\" class=\"data row2 col1\" >Cooper's Hawk</td>\n",
       "                        <td id=\"T_7a06d_row2_col2\" class=\"data row2 col2\" >Species of Concern</td>\n",
       "                        <td id=\"T_7a06d_row2_col3\" class=\"data row2 col3\" >Hawk</td>\n",
       "            </tr>\n",
       "            <tr>\n",
       "                        <th id=\"T_7a06d_level0_row3\" class=\"row_heading level0 row3\" >3</th>\n",
       "                        <td id=\"T_7a06d_row3_col0\" class=\"data row3 col0\" >Great Smoky Mountains </td>\n",
       "                        <td id=\"T_7a06d_row3_col1\" class=\"data row3 col1\" >Cooper's Hawk</td>\n",
       "                        <td id=\"T_7a06d_row3_col2\" class=\"data row3 col2\" >Species of Concern</td>\n",
       "                        <td id=\"T_7a06d_row3_col3\" class=\"data row3 col3\" >Hawk</td>\n",
       "            </tr>\n",
       "            <tr>\n",
       "                        <th id=\"T_7a06d_level0_row4\" class=\"row_heading level0 row4\" >4</th>\n",
       "                        <td id=\"T_7a06d_row4_col0\" class=\"data row4 col0\" >Yosemite </td>\n",
       "                        <td id=\"T_7a06d_row4_col1\" class=\"data row4 col1\" >Sharp-Shinned Hawk</td>\n",
       "                        <td id=\"T_7a06d_row4_col2\" class=\"data row4 col2\" >Species of Concern</td>\n",
       "                        <td id=\"T_7a06d_row4_col3\" class=\"data row4 col3\" >Hawk</td>\n",
       "            </tr>\n",
       "            <tr>\n",
       "                        <th id=\"T_7a06d_level0_row5\" class=\"row_heading level0 row5\" >143</th>\n",
       "                        <td id=\"T_7a06d_row5_col0\" class=\"data row5 col0\" >Yosemite </td>\n",
       "                        <td id=\"T_7a06d_row5_col1\" class=\"data row5 col1\" >Gambel's White-Crowned Sparrow</td>\n",
       "                        <td id=\"T_7a06d_row5_col2\" class=\"data row5 col2\" >Low Risk</td>\n",
       "                        <td id=\"T_7a06d_row5_col3\" class=\"data row5 col3\" >Sparrow</td>\n",
       "            </tr>\n",
       "            <tr>\n",
       "                        <th id=\"T_7a06d_level0_row6\" class=\"row_heading level0 row6\" >144</th>\n",
       "                        <td id=\"T_7a06d_row6_col0\" class=\"data row6 col0\" >Great Smoky Mountains </td>\n",
       "                        <td id=\"T_7a06d_row6_col1\" class=\"data row6 col1\" >Mountain White-Crowned Sparrow</td>\n",
       "                        <td id=\"T_7a06d_row6_col2\" class=\"data row6 col2\" >Low Risk</td>\n",
       "                        <td id=\"T_7a06d_row6_col3\" class=\"data row6 col3\" >Sparrow</td>\n",
       "            </tr>\n",
       "            <tr>\n",
       "                        <th id=\"T_7a06d_level0_row7\" class=\"row_heading level0 row7\" >145</th>\n",
       "                        <td id=\"T_7a06d_row7_col0\" class=\"data row7 col0\" >Yellowstone </td>\n",
       "                        <td id=\"T_7a06d_row7_col1\" class=\"data row7 col1\" >Mountain White-Crowned Sparrow</td>\n",
       "                        <td id=\"T_7a06d_row7_col2\" class=\"data row7 col2\" >Low Risk</td>\n",
       "                        <td id=\"T_7a06d_row7_col3\" class=\"data row7 col3\" >Sparrow</td>\n",
       "            </tr>\n",
       "            <tr>\n",
       "                        <th id=\"T_7a06d_level0_row8\" class=\"row_heading level0 row8\" >146</th>\n",
       "                        <td id=\"T_7a06d_row8_col0\" class=\"data row8 col0\" >Bryce </td>\n",
       "                        <td id=\"T_7a06d_row8_col1\" class=\"data row8 col1\" >Mountain White-Crowned Sparrow</td>\n",
       "                        <td id=\"T_7a06d_row8_col2\" class=\"data row8 col2\" >Low Risk</td>\n",
       "                        <td id=\"T_7a06d_row8_col3\" class=\"data row8 col3\" >Sparrow</td>\n",
       "            </tr>\n",
       "            <tr>\n",
       "                        <th id=\"T_7a06d_level0_row9\" class=\"row_heading level0 row9\" >147</th>\n",
       "                        <td id=\"T_7a06d_row9_col0\" class=\"data row9 col0\" >Yosemite </td>\n",
       "                        <td id=\"T_7a06d_row9_col1\" class=\"data row9 col1\" >Mountain White-Crowned Sparrow</td>\n",
       "                        <td id=\"T_7a06d_row9_col2\" class=\"data row9 col2\" >Low Risk</td>\n",
       "                        <td id=\"T_7a06d_row9_col3\" class=\"data row9 col3\" >Sparrow</td>\n",
       "            </tr>\n",
       "    </tbody></table>"
      ],
      "text/plain": [
       "<pandas.io.formats.style.Styler at 0x7ffb6ca3bee0>"
      ]
     },
     "metadata": {},
     "output_type": "display_data"
    },
    {
     "data": {
      "text/html": [
       "<style  type=\"text/css\" >\n",
       "</style><table id=\"T_edaf1_\" ><caption>Contingency table</caption><thead>    <tr>        <th class=\"index_name level0\" >Hawk/Sparrow</th>        <th class=\"col_heading level0 col0\" >Hawk</th>        <th class=\"col_heading level0 col1\" >Sparrow</th>    </tr>    <tr>        <th class=\"index_name level0\" >Conservation Status</th>        <th class=\"blank\" ></th>        <th class=\"blank\" ></th>    </tr></thead><tbody>\n",
       "                <tr>\n",
       "                        <th id=\"T_edaf1_level0_row0\" class=\"row_heading level0 row0\" >Low Risk</th>\n",
       "                        <td id=\"T_edaf1_row0_col0\" class=\"data row0 col0\" >16</td>\n",
       "                        <td id=\"T_edaf1_row0_col1\" class=\"data row0 col1\" >100</td>\n",
       "            </tr>\n",
       "            <tr>\n",
       "                        <th id=\"T_edaf1_level0_row1\" class=\"row_heading level0 row1\" >Species of Concern</th>\n",
       "                        <td id=\"T_edaf1_row1_col0\" class=\"data row1 col0\" >16</td>\n",
       "                        <td id=\"T_edaf1_row1_col1\" class=\"data row1 col1\" >16</td>\n",
       "            </tr>\n",
       "    </tbody></table>"
      ],
      "text/plain": [
       "<pandas.io.formats.style.Styler at 0x7ffb6c658610>"
      ]
     },
     "metadata": {},
     "output_type": "display_data"
    },
    {
     "name": "stdout",
     "output_type": "stream",
     "text": [
      "chi2: 17.32\n",
      "p-value: 3.151e-05\n",
      "Test result: association between variables is significant (alfa = 0.05)\n"
     ]
    }
   ],
   "source": [
    "# Isolate Hawks and Sparrows observations (only common_names and conservation status are required)\n",
    "SP_and_HW = join_df[(join_df.common_names.str.contains('Hawk|Sparrow')) \n",
    "                    & (join_df.category == 'Bird')].copy()\n",
    "SP_and_HW = SP_and_HW[['park_name', 'common_names', 'conservation_status']].reset_index(drop=True)\n",
    "# Add an Hawk or Sparrow identifier\n",
    "SP_and_HW['hawk_or_sparrow'] = SP_and_HW.common_names.apply(lambda x: 'Hawk' if 'Hawk' in x else 'Sparrow')\n",
    "# Display table\n",
    "display(pd.concat([SP_and_HW.head(), SP_and_HW.tail()]).style\n",
    "                  .set_caption('Sparrows and hawks observations (first and last rows)'))\n",
    "\n",
    "\n",
    "# Create a contingency table\n",
    "contingency_SP_HW = pd.crosstab(SP_and_HW.conservation_status, SP_and_HW.hawk_or_sparrow)\n",
    "# Adjust row/column description\n",
    "contingency_SP_HW.rename_axis('Conservation Status', inplace=True)\n",
    "contingency_SP_HW.rename_axis('Hawk/Sparrow', axis='columns', inplace=True)\n",
    "display(contingency_SP_HW.style.set_caption('Contingency table'))\n",
    "\n",
    "# Run chi2 test\n",
    "chi2, pval, _, expected_f = chi2_contingency(contingency_SP_HW)\n",
    "alfa = 0.05\n",
    "result = ('significant' if pval < alfa else 'not significant')\n",
    "\n",
    "print(f'chi2: {chi2:.2f}')\n",
    "print(f'p-value: {pval:.3e}')\n",
    "print(f'Test result: association between variables is {result} (alfa = {alfa})')"
   ]
  },
  {
   "cell_type": "markdown",
   "metadata": {},
   "source": [
    "According to [Scipy documentation](https://docs.scipy.org/doc/scipy/reference/generated/scipy.stats.chi2_contingency.html):\n",
    "> An often quoted guideline for the validity of this calculation is that the test should be used only if the observed and expected frequencies in each cell are at least 5.\n",
    "\n",
    "Our minimum frequency in `contingency_SP_HW` is 16, hence this requirement is satisfied for *observed frequencies*.\\\n",
    "What about expected ones?\n"
   ]
  },
  {
   "cell_type": "code",
   "execution_count": 17,
   "metadata": {},
   "outputs": [
    {
     "data": {
      "text/html": [
       "<style  type=\"text/css\" >\n",
       "</style><table id=\"T_9d3e3_\" ><caption>Expected frequencies</caption><thead>    <tr>        <th class=\"index_name level0\" >Hawk/Sparrow</th>        <th class=\"col_heading level0 col0\" >Hawk</th>        <th class=\"col_heading level0 col1\" >Sparrow</th>    </tr>    <tr>        <th class=\"index_name level0\" >Conservation Status</th>        <th class=\"blank\" ></th>        <th class=\"blank\" ></th>    </tr></thead><tbody>\n",
       "                <tr>\n",
       "                        <th id=\"T_9d3e3_level0_row0\" class=\"row_heading level0 row0\" >Low Risk</th>\n",
       "                        <td id=\"T_9d3e3_row0_col0\" class=\"data row0 col0\" >25.1</td>\n",
       "                        <td id=\"T_9d3e3_row0_col1\" class=\"data row0 col1\" >90.9</td>\n",
       "            </tr>\n",
       "            <tr>\n",
       "                        <th id=\"T_9d3e3_level0_row1\" class=\"row_heading level0 row1\" >Species of Concern</th>\n",
       "                        <td id=\"T_9d3e3_row1_col0\" class=\"data row1 col0\" >6.9</td>\n",
       "                        <td id=\"T_9d3e3_row1_col1\" class=\"data row1 col1\" >25.1</td>\n",
       "            </tr>\n",
       "    </tbody></table>"
      ],
      "text/plain": [
       "<pandas.io.formats.style.Styler at 0x7ffb6ca3c820>"
      ]
     },
     "metadata": {},
     "output_type": "display_data"
    }
   ],
   "source": [
    "# Prepare expected frequency dataframe\n",
    "expected_f_df = contingency_SP_HW.copy()\n",
    "expected_f_df.iloc[:,:] = expected_f\n",
    "display(expected_f_df.style\n",
    "                     .format(\"{:.1f}\")\n",
    "                     .set_caption('Expected frequencies'))"
   ]
  },
  {
   "cell_type": "markdown",
   "metadata": {},
   "source": [
    "Also *expected frequencies* are above 5, so we can deem the test as valid:\\\n",
    "**there is a relationship between the spotted bird type (*hawk* or *sparrow*) and its conservation status**.\n",
    "\n",
    "This result means that it is improbable to draw an observations sample like te one we are looking at, from a population where no association exists between bird type (*hawk* / *sparrow*) and *conservation status*.\\\n",
    "When a bird is spotted, it is definitely easier to see a *species of concern* if that bird is an hawk.\n",
    "\n",
    "Intuitively this make sense, as typically there are less hawks than sparrows in a stable ecosystem (as we would expect in a *predator/prey relationship*).\\\n",
    "In addition our database shows a proportion of *species of concern* which is higher for hawks than sparrows."
   ]
  },
  {
   "cell_type": "code",
   "execution_count": 18,
   "metadata": {},
   "outputs": [
    {
     "data": {
      "text/html": [
       "<style  type=\"text/css\" >\n",
       "</style><table id=\"T_7b547_\" ><caption>Species vs conservation status</caption><thead>    <tr>        <th class=\"index_name level0\" >Hawk/Sparrow</th>        <th class=\"col_heading level0 col0\" >Hawk</th>        <th class=\"col_heading level0 col1\" >Sparrow</th>    </tr>    <tr>        <th class=\"index_name level0\" >Conservation Status</th>        <th class=\"blank\" ></th>        <th class=\"blank\" ></th>    </tr></thead><tbody>\n",
       "                <tr>\n",
       "                        <th id=\"T_7b547_level0_row0\" class=\"row_heading level0 row0\" >Low Risk</th>\n",
       "                        <td id=\"T_7b547_row0_col0\" class=\"data row0 col0\" >4</td>\n",
       "                        <td id=\"T_7b547_row0_col1\" class=\"data row0 col1\" >24</td>\n",
       "            </tr>\n",
       "            <tr>\n",
       "                        <th id=\"T_7b547_level0_row1\" class=\"row_heading level0 row1\" >Species of Concern</th>\n",
       "                        <td id=\"T_7b547_row1_col0\" class=\"data row1 col0\" >4</td>\n",
       "                        <td id=\"T_7b547_row1_col1\" class=\"data row1 col1\" >4</td>\n",
       "            </tr>\n",
       "    </tbody></table>"
      ],
      "text/plain": [
       "<pandas.io.formats.style.Styler at 0x7ffb6c658610>"
      ]
     },
     "metadata": {},
     "output_type": "display_data"
    }
   ],
   "source": [
    "# Find info for hawks and sparrows species\n",
    "SP_and_HW_info = s_info_df[(s_info_df.common_names.str.contains('Hawk|Sparrow')) \n",
    "                           & (s_info_df.category == 'Bird')].copy()\n",
    "# Add an Hawk or Sparrow identifier\n",
    "SP_and_HW_info['hawk_or_sparrow'] = SP_and_HW_info.common_names.apply(lambda x: 'Hawk' if 'Hawk' in x else 'Sparrow')\n",
    "# Species of concern vs low risk\n",
    "contingency_SP_HW_info = pd.crosstab(SP_and_HW_info.conservation_status, SP_and_HW_info.hawk_or_sparrow)\n",
    "# Adjust row/column description\n",
    "contingency_SP_HW_info.rename_axis('Conservation Status', inplace=True)\n",
    "contingency_SP_HW_info.rename_axis('Hawk/Sparrow', axis='columns', inplace=True)\n",
    "display(contingency_SP_HW_info.style.set_caption('Species vs conservation status'))"
   ]
  },
  {
   "cell_type": "markdown",
   "metadata": {},
   "source": [
    "### Best locations for watching rare sparrows and hawks\n",
    "So what is the best place to look at endangered sparrows or hawks?\\\n",
    "This is a simple one!\\\n",
    "`sns.catplot` draw a *grid of countplots*."
   ]
  },
  {
   "cell_type": "code",
   "execution_count": 19,
   "metadata": {},
   "outputs": [
    {
     "data": {
      "image/png": "[encoded data removed]",
      "text/plain": [
       "<Figure size 880.975x360 with 2 Axes>"
      ]
     },
     "metadata": {},
     "output_type": "display_data"
    }
   ],
   "source": [
    "# Remove unused categories to obtain a better plot\n",
    "SP_and_HW.conservation_status = SP_and_HW.conservation_status.cat.remove_unused_categories()\n",
    "\n",
    "# Countplot\n",
    "g = sns.catplot(x='conservation_status', col='hawk_or_sparrow',\n",
    "                hue='park_name', data=SP_and_HW,\n",
    "                kind=\"count\", height=5,\n",
    "                legend=True)\n",
    "\n",
    "# Improve lables\n",
    "for ax in g.axes[0,:]:\n",
    "    ax.set_xlabel('Conservation Status')\n",
    "g.axes[0,0].set_ylabel('Observatons')\n",
    "g.axes[0,0].set_title('Hawk')\n",
    "g.axes[0,1].set_title('Sparrow')\n",
    "g._legend.set_title('Parks')\n",
    "plt.show()"
   ]
  },
  {
   "cell_type": "markdown",
   "metadata": {},
   "source": [
    "Well, it seems that one park is as good as another...\\\n",
    "We already noticed that the dataset seems ficional and this is another argument to support that hypothesis."
   ]
  },
  {
   "cell_type": "markdown",
   "metadata": {},
   "source": [
    "## Conclusions\n",
    "We can quickly review our answers:\n",
    "- It would be useful to monitor *mammals*, *birds* and *vascular plant* listed under the *species of concern* class.\\\n",
    "Taking preventive actions to protect species in need of conservation is safer than having them sitting on the brink of extinction.\n",
    "- A relationship between observations of hawks and sparrows and their risk of extinction has been found.\\\n",
    "Hawks are rarer to see, but when spotted is easier to see a protected species compared to sparrows.\n",
    "- This dataset is probably fictional, as a result observations of protected sparrows and hawks are equally distributed among parks.\\\n",
    "Choose the park that inspire you, I bet you would not regret it.\n",
    "\n"
   ]
  }
 ],
 "metadata": {
  "kernelspec": {
   "display_name": "Python 3",
   "language": "python",
   "name": "python3"
  },
  "language_info": {
   "codemirror_mode": {
    "name": "ipython",
    "version": 3
   },
   "file_extension": ".py",
   "mimetype": "text/x-python",
   "name": "python",
   "nbconvert_exporter": "python",
   "pygments_lexer": "ipython3",
   "version": "3.9.1"
  }
 },
 "nbformat": 4,
 "nbformat_minor": 4
}

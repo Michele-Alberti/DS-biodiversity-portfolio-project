{
 "cells": [
  {
   "cell_type": "markdown",
   "metadata": {},
   "source": [
    "# CODECADEMY WALKTHROUGH: BIODIVERSITY IN NATIONAL PARKS\n",
    "\n",
    "This is the data analysis project for Codecademy's Data Science career path.\n",
    "\n",
    "## Import statements"
   ]
  },
  {
   "cell_type": "code",
   "execution_count": 1,
   "metadata": {},
   "outputs": [],
   "source": [
    "import pandas as pd\n",
    "from matplotlib import pyplot as plt\n",
    "import seaborn as sns"
   ]
  },
  {
   "cell_type": "markdown",
   "metadata": {},
   "source": [
    "## Load data\n",
    "Load CSV files and assign them to pandas dataframes."
   ]
  },
  {
   "cell_type": "code",
   "execution_count": 11,
   "metadata": {},
   "outputs": [
    {
     "data": {
      "text/html": [
       "<style  type=\"text/css\" >\n",
       "</style><table id=\"T_88fbb_\" ><caption>Infos on species</caption><thead>    <tr>        <th class=\"blank level0\" ></th>        <th class=\"col_heading level0 col0\" >category</th>        <th class=\"col_heading level0 col1\" >scientific_name</th>        <th class=\"col_heading level0 col2\" >common_names</th>        <th class=\"col_heading level0 col3\" >conservation_status</th>    </tr></thead><tbody>\n",
       "                <tr>\n",
       "                        <th id=\"T_88fbb_level0_row0\" class=\"row_heading level0 row0\" >0</th>\n",
       "                        <td id=\"T_88fbb_row0_col0\" class=\"data row0 col0\" >Mammal</td>\n",
       "                        <td id=\"T_88fbb_row0_col1\" class=\"data row0 col1\" >Clethrionomys gapperi gapperi</td>\n",
       "                        <td id=\"T_88fbb_row0_col2\" class=\"data row0 col2\" >Gapper's Red-Backed Vole</td>\n",
       "                        <td id=\"T_88fbb_row0_col3\" class=\"data row0 col3\" >nan</td>\n",
       "            </tr>\n",
       "            <tr>\n",
       "                        <th id=\"T_88fbb_level0_row1\" class=\"row_heading level0 row1\" >1</th>\n",
       "                        <td id=\"T_88fbb_row1_col0\" class=\"data row1 col0\" >Mammal</td>\n",
       "                        <td id=\"T_88fbb_row1_col1\" class=\"data row1 col1\" >Bos bison</td>\n",
       "                        <td id=\"T_88fbb_row1_col2\" class=\"data row1 col2\" >American Bison, Bison</td>\n",
       "                        <td id=\"T_88fbb_row1_col3\" class=\"data row1 col3\" >nan</td>\n",
       "            </tr>\n",
       "            <tr>\n",
       "                        <th id=\"T_88fbb_level0_row2\" class=\"row_heading level0 row2\" >2</th>\n",
       "                        <td id=\"T_88fbb_row2_col0\" class=\"data row2 col0\" >Mammal</td>\n",
       "                        <td id=\"T_88fbb_row2_col1\" class=\"data row2 col1\" >Bos taurus</td>\n",
       "                        <td id=\"T_88fbb_row2_col2\" class=\"data row2 col2\" >Aurochs, Aurochs, Domestic Cattle (Feral), Domesticated Cattle</td>\n",
       "                        <td id=\"T_88fbb_row2_col3\" class=\"data row2 col3\" >nan</td>\n",
       "            </tr>\n",
       "            <tr>\n",
       "                        <th id=\"T_88fbb_level0_row3\" class=\"row_heading level0 row3\" >3</th>\n",
       "                        <td id=\"T_88fbb_row3_col0\" class=\"data row3 col0\" >Mammal</td>\n",
       "                        <td id=\"T_88fbb_row3_col1\" class=\"data row3 col1\" >Ovis aries</td>\n",
       "                        <td id=\"T_88fbb_row3_col2\" class=\"data row3 col2\" >Domestic Sheep, Mouflon, Red Sheep, Sheep (Feral)</td>\n",
       "                        <td id=\"T_88fbb_row3_col3\" class=\"data row3 col3\" >nan</td>\n",
       "            </tr>\n",
       "            <tr>\n",
       "                        <th id=\"T_88fbb_level0_row4\" class=\"row_heading level0 row4\" >4</th>\n",
       "                        <td id=\"T_88fbb_row4_col0\" class=\"data row4 col0\" >Mammal</td>\n",
       "                        <td id=\"T_88fbb_row4_col1\" class=\"data row4 col1\" >Cervus elaphus</td>\n",
       "                        <td id=\"T_88fbb_row4_col2\" class=\"data row4 col2\" >Wapiti Or Elk</td>\n",
       "                        <td id=\"T_88fbb_row4_col3\" class=\"data row4 col3\" >nan</td>\n",
       "            </tr>\n",
       "    </tbody></table>"
      ],
      "text/plain": [
       "<pandas.io.formats.style.Styler at 0x7fd7c9fa54f0>"
      ]
     },
     "metadata": {},
     "output_type": "display_data"
    },
    {
     "data": {
      "text/html": [
       "<style  type=\"text/css\" >\n",
       "</style><table id=\"T_329b2_\" ><caption>Observations in National Parks</caption><thead>    <tr>        <th class=\"blank level0\" ></th>        <th class=\"col_heading level0 col0\" >scientific_name</th>        <th class=\"col_heading level0 col1\" >park_name</th>        <th class=\"col_heading level0 col2\" >observations</th>    </tr></thead><tbody>\n",
       "                <tr>\n",
       "                        <th id=\"T_329b2_level0_row0\" class=\"row_heading level0 row0\" >0</th>\n",
       "                        <td id=\"T_329b2_row0_col0\" class=\"data row0 col0\" >Vicia benghalensis</td>\n",
       "                        <td id=\"T_329b2_row0_col1\" class=\"data row0 col1\" >Great Smoky Mountains National Park</td>\n",
       "                        <td id=\"T_329b2_row0_col2\" class=\"data row0 col2\" >68</td>\n",
       "            </tr>\n",
       "            <tr>\n",
       "                        <th id=\"T_329b2_level0_row1\" class=\"row_heading level0 row1\" >1</th>\n",
       "                        <td id=\"T_329b2_row1_col0\" class=\"data row1 col0\" >Neovison vison</td>\n",
       "                        <td id=\"T_329b2_row1_col1\" class=\"data row1 col1\" >Great Smoky Mountains National Park</td>\n",
       "                        <td id=\"T_329b2_row1_col2\" class=\"data row1 col2\" >77</td>\n",
       "            </tr>\n",
       "            <tr>\n",
       "                        <th id=\"T_329b2_level0_row2\" class=\"row_heading level0 row2\" >2</th>\n",
       "                        <td id=\"T_329b2_row2_col0\" class=\"data row2 col0\" >Prunus subcordata</td>\n",
       "                        <td id=\"T_329b2_row2_col1\" class=\"data row2 col1\" >Yosemite National Park</td>\n",
       "                        <td id=\"T_329b2_row2_col2\" class=\"data row2 col2\" >138</td>\n",
       "            </tr>\n",
       "            <tr>\n",
       "                        <th id=\"T_329b2_level0_row3\" class=\"row_heading level0 row3\" >3</th>\n",
       "                        <td id=\"T_329b2_row3_col0\" class=\"data row3 col0\" >Abutilon theophrasti</td>\n",
       "                        <td id=\"T_329b2_row3_col1\" class=\"data row3 col1\" >Bryce National Park</td>\n",
       "                        <td id=\"T_329b2_row3_col2\" class=\"data row3 col2\" >84</td>\n",
       "            </tr>\n",
       "            <tr>\n",
       "                        <th id=\"T_329b2_level0_row4\" class=\"row_heading level0 row4\" >4</th>\n",
       "                        <td id=\"T_329b2_row4_col0\" class=\"data row4 col0\" >Githopsis specularioides</td>\n",
       "                        <td id=\"T_329b2_row4_col1\" class=\"data row4 col1\" >Great Smoky Mountains National Park</td>\n",
       "                        <td id=\"T_329b2_row4_col2\" class=\"data row4 col2\" >85</td>\n",
       "            </tr>\n",
       "    </tbody></table>"
      ],
      "text/plain": [
       "<pandas.io.formats.style.Styler at 0x7fd7c7619820>"
      ]
     },
     "metadata": {},
     "output_type": "display_data"
    }
   ],
   "source": [
    "# Import infos on species\n",
    "s_info_df = pd.read_csv('species_info.csv')\n",
    "display(s_info_df.head().style.set_caption('Infos on Species'))\n",
    "\n",
    "# Import infos on species\n",
    "obs_df = pd.read_csv('observations.csv')\n",
    "display(obs_df.head().style.set_caption('Observations in National Parks'))"
   ]
  }
 ],
 "metadata": {
  "kernelspec": {
   "display_name": "Python 3",
   "language": "python",
   "name": "python3"
  },
  "language_info": {
   "codemirror_mode": {
    "name": "ipython",
    "version": 3
   },
   "file_extension": ".py",
   "mimetype": "text/x-python",
   "name": "python",
   "nbconvert_exporter": "python",
   "pygments_lexer": "ipython3",
   "version": "3.9.1"
  }
 },
 "nbformat": 4,
 "nbformat_minor": 4
}
